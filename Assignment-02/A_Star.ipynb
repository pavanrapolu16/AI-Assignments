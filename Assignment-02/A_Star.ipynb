{
 "cells": [
  {
   "cell_type": "code",
   "execution_count": 2,
   "id": "b5efad0d",
   "metadata": {},
   "outputs": [],
   "source": [
    "class State:\n",
    "    def __init__(self, i, j, grid, cost):\n",
    "        self.grid = grid\n",
    "        self.i = i\n",
    "        self.j = j\n",
    "        self.n = len(grid)\n",
    "        self.g = cost  \n",
    "\n",
    "    def goalTest(self):\n",
    "        return self.i == self.n - 1 and self.j == self.n - 1\n",
    "\n",
    "    def moveGen(self):\n",
    "        children = []\n",
    "        dr = [-1, 1, 0, 0, -1, 1, -1, 1]\n",
    "        dc = [0, 0, -1, 1, 1, -1, -1, 1]\n",
    "        for k in range(8):\n",
    "            nr = self.i + dr[k]\n",
    "            nc = self.j + dc[k]\n",
    "            if 0 <= nr < self.n and 0 <= nc < self.n and self.grid[nr][nc] == 0:\n",
    "                children.append(State(nr, nc, self.grid, self.g + 1))\n",
    "        return children\n",
    "\n",
    "    def stepCost(self):\n",
    "        return 1\n",
    "    #manhattan distance\n",
    "    def h(self):\n",
    "        dx = abs((self.n - 1) - self.i)\n",
    "        dy = abs((self.n - 1) - self.j)\n",
    "        return dx + dy\n"
   ]
  },
  {
   "cell_type": "code",
   "execution_count": 3,
   "id": "abf5606f",
   "metadata": {},
   "outputs": [],
   "source": [
    "def reconstructPath(pmap, node, g, f):\n",
    "    path = [node]\n",
    "    parent = pmap[node]\n",
    "    while parent:\n",
    "        path.append(parent)\n",
    "        parent = pmap[parent]\n",
    "\n",
    "    path = path[::-1]  \n",
    "    print(\"Reconstructed Path with g, h, f values:\")\n",
    "    \n",
    "    for step in path:\n",
    "        print(f\"({step.i}, {step.j}) -> g = {g[step]}, h = {step.h()}, f = {f[step]}\")\n",
    "    print(\"GOAL\")\n",
    "\n",
    "    return path\n",
    "\n",
    "\n",
    "\n",
    "def propagateImprovement(node, g, f, pmap, CLOSED):\n",
    "    for M in node.moveGen():\n",
    "        k = M.stepCost()\n",
    "        newg = k + g[node]\n",
    "        if newg < g.get(M, float('inf')):\n",
    "            pmap[M] = node\n",
    "            g[M] = newg\n",
    "            f[M] = g[M] + M.h()\n",
    "            if M in CLOSED:\n",
    "                propagateImprovement(M, g, f, pmap, CLOSED)\n",
    "\n",
    "\n",
    "def A_Star(start):\n",
    "    if start.grid[start.i][start.j] == 1:\n",
    "        print(\"-1 (no path exists)\")\n",
    "        return []\n",
    "    OPEN = [start]\n",
    "    CLOSED = []\n",
    "    pmap = {start: None}\n",
    "    g = {start: 0}\n",
    "    f = {start: g[start] + start.h()}\n",
    "\n",
    "    while OPEN:\n",
    "        node = min(OPEN, key=lambda x: f.get(x, float('inf')))\n",
    "        OPEN.remove(node)\n",
    "        if node.goalTest():\n",
    "            return reconstructPath(pmap, node, g, f)\n",
    "        else:\n",
    "            CLOSED.append(node)\n",
    "            for M in node.moveGen():\n",
    "                k = M.stepCost()\n",
    "                newg = k + g[node]\n",
    "                if newg < g.get(M, float('inf')):\n",
    "                    pmap[M] = node\n",
    "                    g[M] = newg\n",
    "                    f[M] = g[M] + M.h()\n",
    "                    if M in CLOSED:\n",
    "                        propagateImprovement(M, g, f, pmap, CLOSED)\n",
    "                    elif M not in OPEN:\n",
    "                        OPEN.append(M)\n",
    "    return []\n"
   ]
  },
  {
   "cell_type": "code",
   "execution_count": 4,
   "id": "ed0dbb41",
   "metadata": {},
   "outputs": [
    {
     "name": "stdout",
     "output_type": "stream",
     "text": [
      "Reconstructed Path with g, h, f values:\n",
      "(0, 0) -> g = 0, h = 4, f = 4\n",
      "(0, 1) -> g = 1, h = 3, f = 4\n",
      "(1, 2) -> g = 2, h = 1, f = 3\n",
      "(2, 2) -> g = 3, h = 0, f = 3\n",
      "GOAL\n"
     ]
    }
   ],
   "source": [
    "grid = [\n",
    "    [0, 0, 0],\n",
    "    [1, 1, 0],\n",
    "    [1, 1, 0]\n",
    "]\n",
    "start = State(0, 0, grid, 0)\n",
    "path = A_Star(start)\n"
   ]
  },
  {
   "cell_type": "code",
   "execution_count": 5,
   "id": "d2ea72a5",
   "metadata": {},
   "outputs": [
    {
     "name": "stdout",
     "output_type": "stream",
     "text": [
      "-1 (no path exists)\n"
     ]
    }
   ],
   "source": [
    "grid = [\n",
    "    [1, 0, 0],\n",
    "    [1, 1, 0],\n",
    "    [1, 1, 0]\n",
    "]\n",
    "start = State(0, 0, grid, 0)\n",
    "path = A_Star(start)"
   ]
  },
  {
   "cell_type": "markdown",
   "id": "af642b86",
   "metadata": {},
   "source": [
    "When comparing the two algorithms, Best First Search (Greedy Search) often finds a path more quickly because it relies solely on the heuristic (such as Manhattan or Euclidean distance) to guide its exploration. This makes it faster in terms of performance, as it expands fewer nodes on average. However, its drawback is that it does not guarantee the shortest path. In some cases, the greedy approach may overlook alternative routes that are slightly longer in heuristic distance but ultimately yield a shorter overall path length.\n",
    "\n",
    "On the other hand, A* search balances both the cost of reaching a node (g-cost) and the estimated cost to the goal (h-cost). This ensures that when a path exists, A* always returns the shortest one, making it more reliable and optimal compared to Best First Search. The trade-off, however, is that A* usually explores more nodes than Greedy Search, which can increase computational overhead. In practice, A* provides accuracy and guarantees optimality, while Best First Search offers speed but at the cost of possible suboptimal results.\n"
   ]
  }
 ],
 "metadata": {
  "kernelspec": {
   "display_name": "Python 3",
   "language": "python",
   "name": "python3"
  },
  "language_info": {
   "codemirror_mode": {
    "name": "ipython",
    "version": 3
   },
   "file_extension": ".py",
   "mimetype": "text/x-python",
   "name": "python",
   "nbconvert_exporter": "python",
   "pygments_lexer": "ipython3",
   "version": "3.13.5"
  }
 },
 "nbformat": 4,
 "nbformat_minor": 5
}
