{
 "cells": [
  {
   "cell_type": "code",
   "execution_count": 49,
   "id": "e5e61c99",
   "metadata": {},
   "outputs": [],
   "source": [
    "class State:\n",
    "    def __init__(self, i, j, grid):\n",
    "        self.grid = grid\n",
    "        self.i = i\n",
    "        self.j = j\n",
    "        self.n = len(grid)\n",
    "\n",
    "    def goalTest(self):\n",
    "        return self.i == self.n - 1 and self.j == self.n - 1\n",
    "\n",
    "    def moveGen(self):\n",
    "        children = []\n",
    "        dr = [-1, 1, 0, 0, -1, 1, -1, 1]\n",
    "        dc = [0, 0, -1, 1, 1, -1, -1, 1]\n",
    "        for k in range(8):\n",
    "            nr = self.i + dr[k]\n",
    "            nc = self.j + dc[k]\n",
    "            if 0 <= nr < self.n and 0 <= nc < self.n and self.grid[nr][nc] == 0:\n",
    "                children.append(State(nr, nc, self.grid))\n",
    "        return children\n",
    "\n",
    "    def stepCost(self):\n",
    "        return 1\n",
    "    #manhattan distance\n",
    "    def h(self):\n",
    "        dx = abs((self.n - 1) - self.i)\n",
    "        dy = abs((self.n - 1) - self.j)\n",
    "        return dx + dy\n"
   ]
  },
  {
   "cell_type": "code",
   "execution_count": 50,
   "id": "ff8fe5e0",
   "metadata": {},
   "outputs": [],
   "source": [
    "def reconstructPath(pmap, node):\n",
    "    path = [node]\n",
    "    parent = pmap[node]\n",
    "    while parent:\n",
    "        path.append(parent)\n",
    "        parent = pmap[parent]\n",
    "\n",
    "    path = path[::-1]  \n",
    "    print(\"Reconstructed Path (i, j):\")\n",
    "    for step in path:\n",
    "        print(f\"({step.i}, {step.j})\")\n",
    "    print(\"GOAL\")\n",
    "\n",
    "    return [(step.i, step.j) for step in path]\n",
    "\n",
    "\n",
    "\n",
    "\n",
    "def BestFristSearch(start):\n",
    "    if start.grid[start.i][start.j] == 1:\n",
    "        print(\"-1 (no path exists)\")\n",
    "        return []\n",
    "    OPEN = [start]              # frontier\n",
    "    CLOSED = []                 # explored\n",
    "    pmap = {start: None}        # parent mapping\n",
    "\n",
    "    while OPEN:\n",
    "        node = min(OPEN, key=lambda x: x.h())\n",
    "        OPEN.remove(node)\n",
    "\n",
    "        if node.goalTest():\n",
    "            return reconstructPath(pmap, node)\n",
    "\n",
    "        CLOSED.append(node)\n",
    "        for M in node.moveGen():\n",
    "            if M not in CLOSED and M not in OPEN:\n",
    "                pmap[M] = node\n",
    "                OPEN.append(M)\n",
    "\n",
    "    return []\n",
    "\n"
   ]
  },
  {
   "cell_type": "code",
   "execution_count": 51,
   "id": "958031d5",
   "metadata": {},
   "outputs": [
    {
     "name": "stdout",
     "output_type": "stream",
     "text": [
      "Reconstructed Path (i, j):\n",
      "(0, 0)\n",
      "(0, 1)\n",
      "(1, 2)\n",
      "(2, 2)\n",
      "GOAL\n"
     ]
    }
   ],
   "source": [
    "n = [[0,0,0],\n",
    "     [1,1,0],\n",
    "     [1,1,0]]\n",
    "start = State(0, 0, n)\n",
    "path = BestFristSearch(start)"
   ]
  },
  {
   "cell_type": "code",
   "execution_count": 52,
   "id": "f23d6a68",
   "metadata": {},
   "outputs": [
    {
     "name": "stdout",
     "output_type": "stream",
     "text": [
      "-1 (no path exists)\n"
     ]
    }
   ],
   "source": [
    "n = [[1,0,0],\n",
    "     [1,1,0],\n",
    "     [1,1,0]]\n",
    "start = State(0, 0, n)\n",
    "path = BestFristSearch(start)"
   ]
  }
 ],
 "metadata": {
  "kernelspec": {
   "display_name": "Python 3",
   "language": "python",
   "name": "python3"
  },
  "language_info": {
   "codemirror_mode": {
    "name": "ipython",
    "version": 3
   },
   "file_extension": ".py",
   "mimetype": "text/x-python",
   "name": "python",
   "nbconvert_exporter": "python",
   "pygments_lexer": "ipython3",
   "version": "3.13.5"
  }
 },
 "nbformat": 4,
 "nbformat_minor": 5
}
